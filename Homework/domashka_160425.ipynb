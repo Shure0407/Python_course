{
  "nbformat": 4,
  "nbformat_minor": 0,
  "metadata": {
    "colab": {
      "provenance": [],
      "authorship_tag": "ABX9TyO7NJXoZ1vaMePAeixOIi9J",
      "include_colab_link": true
    },
    "kernelspec": {
      "name": "python3",
      "display_name": "Python 3"
    },
    "language_info": {
      "name": "python"
    }
  },
  "cells": [
    {
      "cell_type": "markdown",
      "metadata": {
        "id": "view-in-github",
        "colab_type": "text"
      },
      "source": [
        "<a href=\"https://colab.research.google.com/github/Shure0407/Python_course/blob/main/Homework/domashka_160425.ipynb\" target=\"_parent\"><img src=\"https://colab.research.google.com/assets/colab-badge.svg\" alt=\"Open In Colab\"/></a>"
      ]
    },
    {
      "cell_type": "code",
      "execution_count": null,
      "metadata": {
        "id": "DxifcDYLKxc0"
      },
      "outputs": [],
      "source": []
    },
    {
      "cell_type": "code",
      "source": [
        "# Обучение английскому\n",
        "#Приветственное сообщение и ввод имени пользователя\n",
        "name_user = input('''Привет! Предлагаю проверить свои знания английского! \\n\n",
        "Напиши, как тебя зовут. ''')\n",
        "\n",
        "print(f\" \\n Привет, {name_user}, начинаем тренировку! \\n\")\n",
        "\n",
        "#Переменные количества баллов и правильных ответов\n",
        "point = 0\n",
        "correct_answers = 0\n",
        "\n",
        "#Вопрос №1 и начисление баллов\n",
        "print(\"Вопрос 1: My name ___ Vova.\")\n",
        "question_1 = input()\n",
        "\n",
        "if question_1 == \"is\":\n",
        "    point = point + 10\n",
        "    correct_answers +=1\n",
        "    print(\"\\n Ответ верный! \\n Вы получаете 10 баллов! \\n\")\n",
        "else:\n",
        "    print(\"\\n Неправильно. \\n Правильный ответ is \\n\")\n",
        "\n",
        "#Вопрос №2 и начисление баллов\n",
        "print(\"Вопрос 2: I ___ a coder.\")\n",
        "question_2 = input()\n",
        "\n",
        "if question_2 == \"am\":\n",
        "    point = point + 10\n",
        "    correct_answers +=1\n",
        "    print(\"\\n Ответ верный! \\n Вы получаете 10 баллов!\\n\")\n",
        "else:\n",
        "    print(\"\\n Неправильно. \\n Правильный ответ am \\n\")\n",
        "\n",
        "#Вопрос №3 и начисление баллов\n",
        "print(\"Вопрос 3: I live ___ Moscow.\")\n",
        "question_3 = input()\n",
        "\n",
        "if question_3 == \"in\":\n",
        "    point = point + 10\n",
        "    correct_answers +=1\n",
        "    print(\"\\n Ответ верный! \\n Вы получаете 10 баллов!\")\n",
        "else:\n",
        "    print(\"\\n Неправильно. \\n Правильный ответ in \\n\")\n",
        "\n",
        "#Подсчет процента правильных ответов\n",
        "correct_percentage = round(point / 30 *100)\n",
        "\n",
        "#Подбор окончания слова \"вопрос\"\n",
        "if 2 <= correct_answers <= 3:\n",
        "    morthy = \"вопроса\"\n",
        "elif correct_answers == 0:\n",
        "    morthy = \"вопросов\"\n",
        "else:\n",
        "    morthy = \"вопрос\"\n",
        "\n",
        "#Подбор окончания слова \"процент\"\n",
        "if 33 <= correct_percentage <= 34:\n",
        "    morthy_per = \"процента.\"\n",
        "else:\n",
        "    morthy_per = \"процентов.\"\n",
        "\n",
        "#Вывод результатов\n",
        "print(f\"\\n  Вот и всё,\",name_user,\"!\\n\")\n",
        "print(f\"Вы ответили на\", correct_answers, morthy, \"из 3 верно.\")\n",
        "\n",
        "print(f\"Вы заработали\", point, \"баллов.\")\n",
        "print(f\"Это\", correct_percentage, morthy_per)\n",
        "\n"
      ],
      "metadata": {
        "colab": {
          "base_uri": "https://localhost:8080/"
        },
        "id": "FtlfRIYHLxFu",
        "outputId": "d9b46a07-1446-428a-9eea-9a438fcc2c73"
      },
      "execution_count": 31,
      "outputs": [
        {
          "output_type": "stream",
          "name": "stdout",
          "text": [
            "Привет! Предлагаю проверить свои знания английского! \n",
            "\n",
            "Напиши, как тебя зовут. ser\n",
            " \n",
            " Привет, ser, начинаем тренировку! \n",
            "\n",
            "Вопрос 1: My name ___ Vova.\n",
            "is\n",
            "\n",
            " Ответ верный! \n",
            " Вы получаете 10 баллов! \n",
            "\n",
            "Вопрос 2: I ___ a coder.\n",
            "am\n",
            "\n",
            " Ответ верный! \n",
            " Вы получаете 10 баллов!\n",
            "\n",
            "Вопрос 3: I live ___ Moscow.\n",
            "in\n",
            "\n",
            " Ответ верный! \n",
            " Вы получаете 10 баллов!\n",
            "\n",
            "  Вот и всё, ser !\n",
            "\n",
            "Вы ответили на 3 вопроса из 3 верно.\n",
            "Вы заработали 30 баллов.\n",
            "Это 100 процентов.\n"
          ]
        }
      ]
    }
  ]
}